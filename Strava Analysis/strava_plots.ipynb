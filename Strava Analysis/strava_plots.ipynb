{
 "cells": [
  {
   "cell_type": "code",
   "execution_count": 60,
   "metadata": {},
   "outputs": [],
   "source": [
    "import gpxpy\n",
    "import gpxpy.gpx\n",
    "import os\n",
    "import pandas as pd\n",
    "import matplotlib.pyplot as plt\n",
    "import math\n",
    "import seaborn as sns"
   ]
  },
  {
   "cell_type": "code",
   "execution_count": 95,
   "metadata": {},
   "outputs": [],
   "source": [
    "# ref https://github.com/marcusvolz/strava_py/blob/main/src/stravavis/process_data.py for processing gpx for strava and plot functions\n",
    "def process_files(gpx_file):\n",
    "    with open(f\"/Users/jaidenratti/Downloads/export_67811653/activities/{gpx_file}\", encoding=\"utf-8\") as f:\n",
    "        try:\n",
    "            activity = gpxpy.parse(f)\n",
    "        except gpxpy.mod_gpx.GPXException as e:\n",
    "            return None\n",
    "    \n",
    "    lat = []\n",
    "    lon = []\n",
    "    elev = []\n",
    "    dist = []\n",
    "    time = []\n",
    "    name = []\n",
    "\n",
    "    for track in activity.tracks:\n",
    "        for segment in track.segments:\n",
    "            x0 = activity.tracks[0].segments[0].points[0].longitude\n",
    "            y0 = activity.tracks[0].segments[0].points[0].latitude\n",
    "            d0 = 0\n",
    "            for point in segment.points:\n",
    "               x = point.longitude\n",
    "               y = point.latitude\n",
    "               z = point.elevation\n",
    "               t = point.time\n",
    "               lon.append(x)\n",
    "               lat.append(y)\n",
    "               elev.append(z)\n",
    "               time.append(t)\n",
    "               name.append(gpx_file)\n",
    "               distance = d0 + math.sqrt(math.pow(x-x0,2) + math.pow(y-y0,2))\n",
    "               dist.append(distance)\n",
    "               x0 = x\n",
    "               y0 = y\n",
    "               d0 = distance\n",
    "    \n",
    "    df = pd.DataFrame(\n",
    "        list(zip(lon,lat,elev,time,name,dist)),\n",
    "        columns=[\"lon\",\"lat\",\"elev\",\"time\",\"name\",\"dist\"]\n",
    "    )\n",
    "    return df\n"
   ]
  },
  {
   "cell_type": "code",
   "execution_count": null,
   "metadata": {},
   "outputs": [],
   "source": [
    "gpx_dir = '/Users/jaidenratti/Downloads/export_67811653/activities'\n",
    "gpx_files = [f for f in os.listdir(gpx_dir) if f.endswith('.gpx')]\n",
    "gpx_files.sort()\n",
    "processed_data = []\n",
    "\n",
    "for gpx_file in gpx_files:\n",
    "  processed_data.append(process_files(gpx_file))\n",
    "\n",
    "final_df = pd.concat(processed_data,ignore_index=True)\n",
    "print(final_df)\n"
   ]
  },
  {
   "cell_type": "code",
   "execution_count": 103,
   "metadata": {},
   "outputs": [],
   "source": [
    "def plot_elevation(df,output_file=\"plot_elevation.png\"):\n",
    "    plt.figure()\n",
    "\n",
    "    start = (\n",
    "        df.groupby(\"name\").agg({\"time\":\"min\"}).reset_index().sort_values(\"time\")\n",
    "    )\n",
    "    col = math.ceil(math.sqrt(len(start)))\n",
    "\n",
    "    pl = sns.FacetGrid(\n",
    "        data = df,\n",
    "        col=\"name\",\n",
    "        col_wrap = col,\n",
    "        col_order=start[\"name\"],\n",
    "        sharex=False,\n",
    "        sharey=True,\n",
    "        \n",
    "    )\n",
    "    pl = pl.map(plt.plot,\"dist\",\"elev\",color=\"blue\",linewidth=4)\n",
    "  \n",
    "\n",
    "    pl.set(xlabel=None)\n",
    "    pl.set(ylabel=None)\n",
    "    pl.set(xticks=[])\n",
    "    pl.set(yticks=[])\n",
    "    pl.set(xticklabels=[])\n",
    "    pl.set(yticklabels=[])\n",
    "    pl.set(yscale=\"log\")\n",
    "    pl.set_titles(col_template=\"\",row_template=\"\")\n",
    "    sns.despine(left=True,bottom=True)\n",
    "    pl.savefig(output_file)\n"
   ]
  },
  {
   "cell_type": "code",
   "execution_count": null,
   "metadata": {},
   "outputs": [],
   "source": [
    "plot_elevation(final_df,output_file='plot_elevation.png')"
   ]
  },
  {
   "cell_type": "code",
   "execution_count": 102,
   "metadata": {},
   "outputs": [],
   "source": [
    "def plot_distance(df,output_file=\"plot_distance.png\"):\n",
    "    plt.figure()\n",
    "\n",
    "    start = (\n",
    "        df.groupby(\"name\").agg({\"time\":\"min\"}).reset_index().sort_values(\"time\")\n",
    "    )\n",
    "    col = math.ceil(math.sqrt(len(start)))\n",
    "\n",
    "    pl = sns.FacetGrid(\n",
    "        data = df,\n",
    "        col=\"name\",\n",
    "        col_wrap = col,\n",
    "        col_order=start[\"name\"],\n",
    "        sharex=False,\n",
    "        sharey=False,\n",
    "        \n",
    "    )\n",
    "    pl = pl.map(plt.plot,\"lon\",\"lat\",color=\"blue\",linewidth=4)\n",
    "  \n",
    "\n",
    "    pl.set(xlabel=None)\n",
    "    pl.set(ylabel=None)\n",
    "    pl.set(xticks=[])\n",
    "    pl.set(yticks=[])\n",
    "    pl.set(xticklabels=[])\n",
    "    pl.set(yticklabels=[])\n",
    "    pl.set_titles(col_template=\"\",row_template=\"\")\n",
    "    sns.despine(left=True,bottom=True)\n",
    "    pl.savefig(output_file)\n"
   ]
  },
  {
   "cell_type": "code",
   "execution_count": null,
   "metadata": {},
   "outputs": [],
   "source": [
    "plot_distance(final_df,output_file='plot_distance.png')"
   ]
  }
 ],
 "metadata": {
  "kernelspec": {
   "display_name": "Python 3.11.3 64-bit",
   "language": "python",
   "name": "python3"
  },
  "language_info": {
   "codemirror_mode": {
    "name": "ipython",
    "version": 3
   },
   "file_extension": ".py",
   "mimetype": "text/x-python",
   "name": "python",
   "nbconvert_exporter": "python",
   "pygments_lexer": "ipython3",
   "version": "3.11.3"
  },
  "orig_nbformat": 4,
  "vscode": {
   "interpreter": {
    "hash": "aee8b7b246df8f9039afb4144a1f6fd8d2ca17a180786b69acc140d282b71a49"
   }
  }
 },
 "nbformat": 4,
 "nbformat_minor": 2
}
