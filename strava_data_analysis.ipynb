{
  "nbformat": 4,
  "nbformat_minor": 0,
  "metadata": {
    "colab": {
      "name": "strava_data_analysis.ipynb",
      "provenance": [],
      "collapsed_sections": [],
      "mount_file_id": "1yf66lmGYLwRh0-VS7itJD_EO-Jck2inW",
      "authorship_tag": "ABX9TyMH5n6dOyPhu5NIIIIglqIf"
    },
    "kernelspec": {
      "name": "python3",
      "display_name": "Python 3"
    },
    "language_info": {
      "name": "python"
    }
  },
  "cells": [
    {
      "cell_type": "code",
      "source": [
        "from ast import increment_lineno\n",
        "from tkinter import Y\n",
        "import requests\n",
        "import random\n",
        "import urllib3\n",
        "import json\n",
        "import calplot\n",
        "import numpy as np\n",
        "import pandas as pd\n",
        "import polyline\n",
        "from pandas.io.json import json_normalize\n",
        "import matplotlib.pyplot as plt\n",
        "from matplotlib import style\n",
        "import folium\n",
        "import math\n",
        "from mpl_toolkits.basemap import Basemap\n",
        "from google.colab import drive\n",
        "from google.colab import files\n",
        "load = files.upload()\n",
        "#select json file with private info\n",
        "d = next(iter(load.values()))\n",
        "#get contents from json\n",
        "data = json.loads(d.decode())\n",
        "#convert json to dict\n",
        "\n",
        "urllib3.disable_warnings(urllib3.exceptions.InsecureRequestWarning)"
      ],
      "metadata": {
        "colab": {
          "base_uri": "https://localhost:8080/",
          "height": 391
        },
        "id": "5Oq0OErNvU7a",
        "outputId": "86a34b17-1747-416f-b5d4-1b719da7c28a"
      },
      "execution_count": 2,
      "outputs": [
        {
          "output_type": "error",
          "ename": "ModuleNotFoundError",
          "evalue": "ignored",
          "traceback": [
            "\u001b[0;31m---------------------------------------------------------------------------\u001b[0m",
            "\u001b[0;31mModuleNotFoundError\u001b[0m                       Traceback (most recent call last)",
            "\u001b[0;32m<ipython-input-2-15308abf6cf6>\u001b[0m in \u001b[0;36m<module>\u001b[0;34m()\u001b[0m\n\u001b[1;32m      6\u001b[0m \u001b[0;32mimport\u001b[0m \u001b[0mjson\u001b[0m\u001b[0;34m\u001b[0m\u001b[0;34m\u001b[0m\u001b[0m\n\u001b[1;32m      7\u001b[0m \u001b[0;32mimport\u001b[0m \u001b[0mpandas\u001b[0m\u001b[0;34m\u001b[0m\u001b[0;34m\u001b[0m\u001b[0m\n\u001b[0;32m----> 8\u001b[0;31m \u001b[0;32mimport\u001b[0m \u001b[0mcalplot\u001b[0m\u001b[0;34m\u001b[0m\u001b[0;34m\u001b[0m\u001b[0m\n\u001b[0m\u001b[1;32m      9\u001b[0m \u001b[0;32mimport\u001b[0m \u001b[0mnumpy\u001b[0m \u001b[0;32mas\u001b[0m \u001b[0mnp\u001b[0m\u001b[0;34m\u001b[0m\u001b[0;34m\u001b[0m\u001b[0m\n\u001b[1;32m     10\u001b[0m \u001b[0;32mimport\u001b[0m \u001b[0mpandas\u001b[0m \u001b[0;32mas\u001b[0m \u001b[0mpd\u001b[0m\u001b[0;34m\u001b[0m\u001b[0;34m\u001b[0m\u001b[0m\n",
            "\u001b[0;31mModuleNotFoundError\u001b[0m: No module named 'calplot'",
            "",
            "\u001b[0;31m---------------------------------------------------------------------------\u001b[0;32m\nNOTE: If your import is failing due to a missing package, you can\nmanually install dependencies using either !pip or !apt.\n\nTo view examples of installing some common dependencies, click the\n\"Open Examples\" button below.\n\u001b[0;31m---------------------------------------------------------------------------\u001b[0m\n"
          ],
          "errorDetails": {
            "actions": [
              {
                "action": "open_url",
                "actionText": "Open Examples",
                "url": "/notebooks/snippets/importing_libraries.ipynb"
              }
            ]
          }
        }
      ]
    },
    {
      "cell_type": "code",
      "source": [
        "clientid = data[\"client_id\"]\n",
        "clientsecret = data[\"client_secret\"]\n",
        "refreshtoken = data[\"refresh_token\"]\n",
        "#data & tokens from hidden json\n",
        "auth_link = \"https://www.strava.com/oauth/token\"\n",
        "activities_link = \"https://www.strava.com/api/v3/athlete/activities\"\n",
        "\n",
        "payload = {\n",
        "    'client_id': clientid,\n",
        "    'client_secret': clientsecret,\n",
        "    'refresh_token': refreshtoken,\n",
        "    'grant_type': \"refresh_token\",\n",
        "    'f': 'json'\n",
        "    }\n",
        "\n",
        "res = requests.post(auth_link, data=payload, verify=False)\n",
        "access_token = res.json()['access_token']\n",
        "#use refresh token to get new access token\n",
        "\n",
        "heading = {'Authorization': 'Bearer ' + access_token}\n",
        "param = {'per_page': 200, 'page':1}"
      ],
      "metadata": {
        "id": "4qpHq7iTvbve"
      },
      "execution_count": null,
      "outputs": []
    },
    {
      "cell_type": "code",
      "source": [
        "my_fulldataset = requests.get(activities_link, headers=heading, params=param).json()\n",
        "activity_df = pandas.json_normalize(my_fulldataset)\n",
        "\n",
        "cols = ['name', 'type', 'distance', 'moving_time', 'elapsed_time', 'average_speed', 'max_speed', 'start_date_local','location_city','location_country','achievement_count','kudos_count','start_latlng','end_latlng','map.summary_polyline']\n",
        "#specifying data (creating table with only the useful information)\n",
        "\n",
        "activity_df = activity_df[cols]\n",
        "\n",
        "def viewdata(data):\n",
        "    #easy insight into data in any table\n",
        "    print(data.columns)\n",
        "    #see 'template'\n",
        "    print(data.shape)\n",
        "    #dimensions\n",
        "    print(data['type'].value_counts())\n",
        "    #see distribution of activities\n",
        "\n",
        "activity_df[\"start_date_local\"] = pd.to_datetime(activity_df['start_date_local'])\n",
        "activity_df = activity_df.set_index('start_date_local')\n",
        "#converting to datetime and setting as the index\n",
        "activity_df['distance'] = round(activity_df['distance']/1000,2) \n",
        "#conversion from m to km\n",
        "activity_df['average_speed'] = round(activity_df['average_speed'] * 3.6,2)\n",
        "activity_df['max_speed'] = round(activity_df['max_speed'] * 3.6,2)\n",
        "#conversion from m/s to km/h\n",
        "\n",
        "#creating tables of activities\n",
        "bike_activities_df = activity_df.loc[activity_df['type'] == 'Ride']\n",
        "walk_activities_df = activity_df.loc[activity_df['type']=='Walk']"
      ],
      "metadata": {
        "id": "E0r492xXvrBf"
      },
      "execution_count": null,
      "outputs": []
    },
    {
      "cell_type": "code",
      "source": [
        "plt.style.use(\"default\")\n",
        "\n",
        "heatmap = calplot.calplot(data = bike_activities_df['distance'],how='sum',cmap=\"OrRd\",suptitle=\"Distance Heatmap\",dayticks=False,figsize=(10,8))\n"
      ],
      "metadata": {
        "id": "WluperzHvwRr"
      },
      "execution_count": null,
      "outputs": []
    },
    {
      "cell_type": "code",
      "source": [
        "avgspeed_distance = pd.DataFrame(bike_activities_df, columns=['average_speed', 'distance'])\n",
        "avgspeed_distance.plot(x = 'distance', y = 'average_speed', kind = 'scatter')\n",
        "plt.title(\"Average Speed vs Distance\")\n",
        "plt.xlabel(\"Distance (KM)\")\n",
        "plt.ylabel(\"Average Speed (KM/H)\")"
      ],
      "metadata": {
        "id": "pKPuAQlev0Dn"
      },
      "execution_count": null,
      "outputs": []
    },
    {
      "cell_type": "code",
      "source": [
        "achievement_distance = pd.DataFrame(bike_activities_df, columns=['kudos_count','distance'])\n",
        "achievement_distance.plot(x='distance',y='kudos_count',kind='scatter')\n",
        "plt.title(\"Kudos Count vs Distance\")\n",
        "plt.xlabel(\"Distance (KM)\")\n",
        "plt.ylabel(\"Kudos Count\")"
      ],
      "metadata": {
        "id": "03Fqnv9iv3xn"
      },
      "execution_count": null,
      "outputs": []
    },
    {
      "cell_type": "code",
      "source": [
        "def cumulative(bike_activities):\n",
        "    plt.figure(\"Cumulative Distance\")\n",
        "    listx = []\n",
        "    for i in range(0,len(bike_activities)):\n",
        "        listx.append(i)\n",
        "    cumulative_distance = bike_activities_df['distance'].cumsum(axis=0)\n",
        "    plt.plot(listx,cumulative_distance)\n",
        "    plt.title(\"Cumulative Distance\")\n",
        "    plt.xlabel(\"Activity #\")\n",
        "    plt.ylabel(\"Distance (KM)\")\n",
        "\n",
        "cumulative(bike_activities_df)\n",
        "#cumulative distance"
      ],
      "metadata": {
        "id": "nNHLnChyv7G9"
      },
      "execution_count": null,
      "outputs": []
    },
    {
      "cell_type": "code",
      "source": [
        "all = bike_activities_df['map.summary_polyline'].to_numpy()\n",
        "\n",
        "adjusted_df = bike_activities_df.loc[bike_activities_df['distance'] >=15]\n",
        "adjusted_array = adjusted_df['map.summary_polyline'].to_numpy()\n",
        "#create an array of all rides over 15km\n",
        "\n",
        "def geomap(bike_list):\n",
        "  colour_cycle=0\n",
        "  colours=['red','red','blue','purple','orange','white','pink','green','gray']\n",
        "  #colour info for line\n",
        "  route_map = folium.Map(location=[43.49854808219178, -79.70272301369863], zoom_start = 11, tiles='CartoDB dark_matter')\n",
        "  #making the map -- setting centroid as Oakville\n",
        "  for i in range(0,len(bike_list)):\n",
        "    #iterate through all bike activities\n",
        "    if bike_list[i] is not None:\n",
        "      #check if bike activity has polylines (stationary activities dont have polylines)\n",
        "      decode = polyline.decode(bike_list[i])\n",
        "      #decode into lat,lng\n",
        "      colour_cycle+=1\n",
        "      if colour_cycle >= len(colours):\n",
        "        colour_cycle=0\n",
        "    for element in decode:\n",
        "      #add the polyline to the map\n",
        "      folium.PolyLine(locations=decode, smooth_factor = 2, color = colours[colour_cycle]).add_to(route_map)\n",
        "  display(route_map)\n",
        "  \n",
        "geomap(adjusted_array)\n",
        "\n",
        "plt.show()"
      ],
      "metadata": {
        "id": "MVnO_EDxv_pA"
      },
      "execution_count": null,
      "outputs": []
    },
    {
      "cell_type": "code",
      "source": [
        "total_distance = bike_activities_df[\"distance\"].sum()\n",
        "total_moving_time = bike_activities_df[\"moving_time\"].sum()\n",
        "converted_total_moving_time = total_moving_time/3600\n",
        "total_elapsed_time = bike_activities_df[\"elapsed_time\"].sum()\n",
        "total_achievements = bike_activities_df[\"achievement_count\"].sum()\n",
        "total_kudos = bike_activities_df[\"kudos_count\"].sum()\n",
        "farthest_ride = bike_activities_df['distance'].max()\n",
        "highest_speed = bike_activities_df['max_speed'].max()\n",
        "\n",
        "num_bikes = len(bike_activities_df)\n",
        "#just curious\n",
        "\n",
        "\n",
        "print(f'Total Number of Rides: {num_bikes}')\n",
        "print(f'Total Distance: {total_distance:.2f} km')\n",
        "print(f'Total Moving Time: {converted_total_moving_time:.2f} hours')\n",
        "print(f'Total Achievements: {total_achievements}')\n",
        "print(f'Total Kudos: {total_kudos}')\n",
        "print(f'Longest Distance: {farthest_ride} km')\n",
        "print(f'Fastest Speed Recorded {highest_speed} km/h')"
      ],
      "metadata": {
        "id": "vsuymepKvt32"
      },
      "execution_count": null,
      "outputs": []
    }
  ]
}